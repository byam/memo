{
 "cells": [
  {
   "cell_type": "markdown",
   "metadata": {},
   "source": [
    "- Item 36: Use `subprocess` to Manage Child Processes\n",
    "- Item 37: Use `Threads` for Blocking I/O, Avoid for Parallelism\n",
    "- Item 38: Use Lock to Prevent Data Races in `Threads`\n",
    "- Item 39: Use `Queue` to Coordinate Work Between `Threads`\n",
    "- Item 40: Consider Coroutines to Run Many Functions Concurrently\n",
    "- Item 41: Consider `concurrent.futures` for True Parallelism"
   ]
  },
  {
   "cell_type": "code",
   "execution_count": 1,
   "metadata": {},
   "outputs": [],
   "source": [
    "# Preamble to mimick book environment\n",
    "import logging\n",
    "from pprint import pprint\n",
    "from sys import stdout as STDOUT"
   ]
  },
  {
   "cell_type": "markdown",
   "metadata": {},
   "source": [
    "## Item 36: Use `subprocess` to Manage Child Processes"
   ]
  },
  {
   "cell_type": "code",
   "execution_count": 3,
   "metadata": {},
   "outputs": [
    {
     "name": "stdout",
     "output_type": "stream",
     "text": [
      "Hello from the child!\n",
      "\n"
     ]
    }
   ],
   "source": [
    "# Example: subprocess\n",
    "import subprocess\n",
    "proc = subprocess.Popen(\n",
    "    ['echo', 'Hello from the child!'],\n",
    "    stdout=subprocess.PIPE)\n",
    "out, err = proc.communicate() # reads the child process’s output and waits for termination.\n",
    "print(out.decode('utf-8'))"
   ]
  },
  {
   "cell_type": "code",
   "execution_count": 4,
   "metadata": {},
   "outputs": [
    {
     "name": "stdout",
     "output_type": "stream",
     "text": [
      "Working...\n",
      "Working...\n",
      "Exit status 0\n"
     ]
    }
   ],
   "source": [
    "# Child processes will run independently from their parent process\n",
    "from time import sleep, time\n",
    "proc = subprocess.Popen(['sleep', '0.3'])\n",
    "while proc.poll() is None:\n",
    "    print('Working...')\n",
    "    # Some time consuming work here\n",
    "    sleep(0.2)\n",
    "\n",
    "print('Exit status', proc.poll())"
   ]
  },
  {
   "cell_type": "code",
   "execution_count": 5,
   "metadata": {},
   "outputs": [
    {
     "name": "stdout",
     "output_type": "stream",
     "text": [
      "Finished in 0.196 seconds\n"
     ]
    }
   ],
   "source": [
    "# the parent process is free to run many child processes in parallel.\n",
    "def run_sleep(period):\n",
    "    proc = subprocess.Popen(['sleep', str(period)])\n",
    "    return proc\n",
    "\n",
    "start = time()\n",
    "procs = []\n",
    "for _ in range(10):\n",
    "    proc = run_sleep(0.1)\n",
    "    procs.append(proc)\n",
    "\n",
    "\n",
    "for proc in procs:\n",
    "    proc.communicate()\n",
    "end = time()\n",
    "print('Finished in %.3f seconds' % (end - start))"
   ]
  },
  {
   "cell_type": "code",
   "execution_count": 15,
   "metadata": {},
   "outputs": [
    {
     "name": "stdout",
     "output_type": "stream",
     "text": [
      "b'\\x08\\x03\\xc2L\\x1e\\xae\\xfd\\xb4\\nu'\n",
      "b'U\\x00\\x01U\\xd3g\\x05c/Q'\n",
      "b'\\xbce\\n\\xe9U\\xb0\\xfe\\x86\\xd2A'\n"
     ]
    }
   ],
   "source": [
    "# pipe data from your Python program into a subprocess and retrieve its output.\n",
    "import os\n",
    "\n",
    "def run_openssl(data):\n",
    "    env = os.environ.copy()\n",
    "    env['password'] = b'\\xe24U\\n\\xd0Ql3S\\x11'\n",
    "    proc = subprocess.Popen(\n",
    "        ['openssl', 'enc', '-des3', '-pass', 'env:password'],\n",
    "        env=env,\n",
    "        stdin=subprocess.PIPE,\n",
    "        stdout=subprocess.PIPE)\n",
    "    proc.stdin.write(data)\n",
    "    proc.stdin.flush()  # Ensure the child gets input\n",
    "    return proc\n",
    "\n",
    "\n",
    "procs = []\n",
    "for _ in range(3):\n",
    "    data = os.urandom(10)\n",
    "    proc = run_openssl(data)\n",
    "    procs.append(proc)\n",
    "\n",
    "\n",
    "for proc in procs:\n",
    "    out, err = proc.communicate()\n",
    "    print(out[-10:])"
   ]
  },
  {
   "cell_type": "code",
   "execution_count": 17,
   "metadata": {},
   "outputs": [
    {
     "name": "stdout",
     "output_type": "stream",
     "text": [
      "b'0e4e433631c0afe4ae93a66daca9b677  -'\n",
      "b'ace0f8d933ad03b46ec81c50dc09d658  -'\n",
      "b'9cc345e9be44ff1ce20b3d946bf5bd5e  -'\n"
     ]
    }
   ],
   "source": [
    "# create chains of parallel processes just like UNIX pipes\n",
    "def run_md5(input_stdin):\n",
    "    proc = subprocess.Popen(\n",
    "        ['md5sum'],\n",
    "        stdin=input_stdin,\n",
    "        stdout=subprocess.PIPE)\n",
    "    return proc\n",
    "\n",
    "\n",
    "input_procs = []\n",
    "hash_procs = []\n",
    "for _ in range(3):\n",
    "    data = os.urandom(10)\n",
    "    proc = run_openssl(data)\n",
    "    input_procs.append(proc)\n",
    "    hash_proc = run_md5(proc.stdout)\n",
    "    hash_procs.append(hash_proc)\n",
    "\n",
    "\n",
    "for proc in input_procs:\n",
    "    proc.communicate()\n",
    "for proc in hash_procs:\n",
    "    out, err = proc.communicate()\n",
    "    print(out.strip())"
   ]
  },
  {
   "cell_type": "code",
   "execution_count": 19,
   "metadata": {},
   "outputs": [
    {
     "name": "stdout",
     "output_type": "stream",
     "text": [
      "Exit status -15\n"
     ]
    }
   ],
   "source": [
    "# Set timeout parameter\n",
    "proc = run_sleep(10)\n",
    "try:\n",
    "    proc.communicate(timeout=0.1)\n",
    "except subprocess.TimeoutExpired:\n",
    "    proc.terminate()\n",
    "    proc.wait()\n",
    "\n",
    "print('Exit status', proc.poll())"
   ]
  },
  {
   "cell_type": "markdown",
   "metadata": {},
   "source": [
    "### Things to Remember\n",
    "- Use the `subprocess` module to run child processes and manage their input and output streams.\n",
    "- **Child processes run in parallel** with the Python interpreter, enabling you to **maximize your CPU usage**.\n",
    "- Use the `timeout` parameter with `communicate` to **avoid deadlocks** and **hanging child processes**."
   ]
  },
  {
   "cell_type": "markdown",
   "metadata": {},
   "source": [
    "## Item 37: Use `Threads` for Blocking I/O, Avoid for Parallelism"
   ]
  },
  {
   "cell_type": "code",
   "execution_count": 25,
   "metadata": {},
   "outputs": [
    {
     "name": "stdout",
     "output_type": "stream",
     "text": [
      "Took 0.472 seconds\n"
     ]
    }
   ],
   "source": [
    "# Factoring a set of numbers in serial takes quite a long time.\n",
    "def factorize(number):\n",
    "    for i in range(1, number + 1):\n",
    "        if number % i == 0:\n",
    "            yield i\n",
    "\n",
    "\n",
    "from time import time\n",
    "numbers = [2139079, 1214759, 1516637, 1852285]\n",
    "start = time()\n",
    "for number in numbers:\n",
    "    list(factorize(number))\n",
    "end = time()\n",
    "print('Took %.3f seconds' % (end - start))"
   ]
  },
  {
   "cell_type": "code",
   "execution_count": 28,
   "metadata": {},
   "outputs": [
    {
     "name": "stdout",
     "output_type": "stream",
     "text": [
      "Took 0.486 seconds\n"
     ]
    }
   ],
   "source": [
    "# Using Thread\n",
    "# Although Python supports multiple threads of execution, the GIL causes only one of them to make forward progress at a time\n",
    "# This demonstrates the effect of the GIL on programs running in the standard CPython interpreter.\n",
    "from threading import Thread\n",
    "\n",
    "class FactorizeThread(Thread):\n",
    "    def __init__(self, number):\n",
    "        super().__init__()\n",
    "        self.number = number\n",
    "\n",
    "    def run(self):\n",
    "        self.factors = list(factorize(self.number))\n",
    "\n",
    "\n",
    "start = time()\n",
    "numbers = [2139079, 1214759, 1516637, 1852285]\n",
    "threads = []\n",
    "for number in numbers:\n",
    "    thread = FactorizeThread(number)\n",
    "    thread.start()\n",
    "    threads.append(thread)\n",
    "\n",
    "\n",
    "for thread in threads:\n",
    "    thread.join()\n",
    "end = time()\n",
    "print('Took %.3f seconds' % (end - start))"
   ]
  },
  {
   "cell_type": "code",
   "execution_count": 29,
   "metadata": {},
   "outputs": [
    {
     "name": "stdout",
     "output_type": "stream",
     "text": [
      "Took 0.513 seconds\n"
     ]
    }
   ],
   "source": [
    "import select, socket\n",
    "\n",
    "# Creating the socket is specifically to support Windows. Windows can't do\n",
    "# a select call with an empty list.\n",
    "# Running this system call in serial requires a linearly increasing amount of time.\n",
    "def slow_systemcall():\n",
    "    select.select([socket.socket()], [], [], 0.1)\n",
    "\n",
    "\n",
    "start = time()\n",
    "for _ in range(5):\n",
    "    slow_systemcall()\n",
    "end = time()\n",
    "print('Took %.3f seconds' % (end - start))"
   ]
  },
  {
   "cell_type": "code",
   "execution_count": 30,
   "metadata": {},
   "outputs": [
    {
     "name": "stdout",
     "output_type": "stream",
     "text": [
      "Took 0.103 seconds\n"
     ]
    }
   ],
   "source": [
    "# using thread\n",
    "start = time()\n",
    "threads = []\n",
    "for _ in range(5):\n",
    "    thread = Thread(target=slow_systemcall)\n",
    "    thread.start()\n",
    "    threads.append(thread)\n",
    "\n",
    "\n",
    "def compute_helicopter_location(index):\n",
    "    pass\n",
    "\n",
    "for i in range(5):\n",
    "    compute_helicopter_location(i)\n",
    "for thread in threads:\n",
    "    thread.join()\n",
    "end = time()\n",
    "print('Took %.3f seconds' % (end - start))"
   ]
  },
  {
   "cell_type": "markdown",
   "metadata": {},
   "source": [
    "### Things to Remember\n",
    "- Python `threads` **can’t run bytecode in parallel on multiple CPU cores** because of the global interpreter lock (**GIL**).\n",
    "- Python `threads` are **still useful** despite the GIL because they provide an easy way **to do multiple things at seemingly the same time**.\n",
    "- **Use Python threads** to make **multiple system calls in parallel**. This allows you to do **blocking I/O** at the same time as computation."
   ]
  },
  {
   "cell_type": "markdown",
   "metadata": {},
   "source": [
    "## Item 38: Use Lock to Prevent Data Races in Threads"
   ]
  },
  {
   "cell_type": "code",
   "execution_count": 35,
   "metadata": {},
   "outputs": [
    {
     "name": "stdout",
     "output_type": "stream",
     "text": [
      "Counter should be 500000, found 378708\n"
     ]
    }
   ],
   "source": [
    "# write a program that counts many things in parallel\n",
    "class Counter(object):\n",
    "    def __init__(self):\n",
    "        self.count = 0\n",
    "\n",
    "    def increment(self, offset):\n",
    "        self.count += offset\n",
    "\n",
    "\n",
    "def worker(sensor_index, how_many, counter):\n",
    "    # I have a barrier in here so the workers synchronize\n",
    "    # when they start counting, otherwise it's hard to get a race\n",
    "    # because the overhead of starting a thread is high.\n",
    "    BARRIER.wait()\n",
    "    for _ in range(how_many):\n",
    "        # Read from the sensor\n",
    "        counter.increment(1)\n",
    "\n",
    "\n",
    "from threading import Barrier, Thread\n",
    "BARRIER = Barrier(5)\n",
    "def run_threads(func, how_many, counter):\n",
    "    threads = []\n",
    "    for i in range(5):\n",
    "        args = (i, how_many, counter)\n",
    "        thread = Thread(target=func, args=args)\n",
    "        threads.append(thread)\n",
    "        thread.start()\n",
    "    for thread in threads:\n",
    "        thread.join()\n",
    "\n",
    "\n",
    "how_many = 10**5\n",
    "counter = Counter()\n",
    "run_threads(worker, how_many, counter)\n",
    "print('Counter should be %d, found %d' %\n",
    "      (5 * how_many, counter.count))\n"
   ]
  },
  {
   "cell_type": "code",
   "execution_count": 36,
   "metadata": {},
   "outputs": [],
   "source": [
    "offset = 5\n",
    "counter.count += offset\n",
    "\n",
    "\n",
    "value = getattr(counter, 'count')\n",
    "result = value + offset\n",
    "setattr(counter, 'count', result)\n",
    "\n",
    "\n",
    "# Running in Thread A\n",
    "value_a = getattr(counter, 'count')\n",
    "# Context switch to Thread B\n",
    "value_b = getattr(counter, 'count')\n",
    "result_b = value_b + 1\n",
    "setattr(counter, 'count', result_b)\n",
    "# Context switch back to Thread A\n",
    "result_a = value_a + 1\n",
    "setattr(counter, 'count', result_a)"
   ]
  },
  {
   "cell_type": "code",
   "execution_count": 37,
   "metadata": {},
   "outputs": [
    {
     "name": "stdout",
     "output_type": "stream",
     "text": [
      "Counter should be 500000, found 500000\n"
     ]
    }
   ],
   "source": [
    "# Using Lock\n",
    "from threading import Lock\n",
    "\n",
    "class LockingCounter(object):\n",
    "    def __init__(self):\n",
    "        self.lock = Lock()\n",
    "        self.count = 0\n",
    "\n",
    "    def increment(self, offset):\n",
    "        with self.lock:\n",
    "            self.count += offset\n",
    "\n",
    "\n",
    "BARRIER = Barrier(5)\n",
    "counter = LockingCounter()\n",
    "run_threads(worker, how_many, counter)\n",
    "print('Counter should be %d, found %d' %\n",
    "      (5 * how_many, counter.count))"
   ]
  },
  {
   "cell_type": "markdown",
   "metadata": {},
   "source": [
    "### Things to Remember\n",
    "- Even though Python has a **global interpreter lock**, you’re still **responsible for protecting against data races** between the threads in your programs.\n",
    "- Your **programs will corrupt their data structures** if you **allow multiple threads** to modify the same objects without locks.\n",
    "- The **Lock class** in the `threading` built-in module is Python’s standard mutual exclusion lock implementation."
   ]
  },
  {
   "cell_type": "code",
   "execution_count": null,
   "metadata": {},
   "outputs": [],
   "source": []
  }
 ],
 "metadata": {
  "kernelspec": {
   "display_name": "Python 3",
   "language": "python",
   "name": "python3"
  },
  "language_info": {
   "codemirror_mode": {
    "name": "ipython",
    "version": 3
   },
   "file_extension": ".py",
   "mimetype": "text/x-python",
   "name": "python",
   "nbconvert_exporter": "python",
   "pygments_lexer": "ipython3",
   "version": "3.6.3"
  }
 },
 "nbformat": 4,
 "nbformat_minor": 2
}
